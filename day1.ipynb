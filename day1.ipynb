{
 "cells": [
  {
   "cell_type": "code",
   "execution_count": 8,
   "id": "2ff4e7bc-b1f4-4367-80e8-7eea808dfc47",
   "metadata": {},
   "outputs": [],
   "source": [
    "name= 'himanshu'\n",
    "age= 25\n",
    "degree= 'MA'\n"
   ]
  },
  {
   "cell_type": "code",
   "execution_count": 11,
   "id": "e253912f-689d-4840-acef-ffbcae7a6be8",
   "metadata": {},
   "outputs": [
    {
     "name": "stdout",
     "output_type": "stream",
     "text": [
      "my age is 25 and i have completed: my degree of MA with the name of himanshu\n"
     ]
    }
   ],
   "source": [
    "print('my age is {} and i have completed: my degree of {} with the name of {}'.format(age,degree,name))"
   ]
  },
  {
   "cell_type": "code",
   "execution_count": 13,
   "id": "b12b4315-97af-47d3-acc5-8ee2235cf4a3",
   "metadata": {},
   "outputs": [
    {
     "name": "stdin",
     "output_type": "stream",
     "text": [
      " himanshu\n"
     ]
    }
   ],
   "source": [
    "name=input()"
   ]
  },
  {
   "cell_type": "code",
   "execution_count": 14,
   "id": "61b8af39-e2e0-48da-909d-a3025751e0a8",
   "metadata": {},
   "outputs": [
    {
     "data": {
      "text/plain": [
       "'himanshu'"
      ]
     },
     "execution_count": 14,
     "metadata": {},
     "output_type": "execute_result"
    }
   ],
   "source": [
    "name"
   ]
  },
  {
   "cell_type": "code",
   "execution_count": 15,
   "id": "edebabdf-008a-4b5f-acc9-24ec9ed3f97c",
   "metadata": {},
   "outputs": [
    {
     "name": "stdin",
     "output_type": "stream",
     "text": [
      "what is your name :  Himanshu\n"
     ]
    }
   ],
   "source": [
    "name=input(\"what is your name : \")"
   ]
  },
  {
   "cell_type": "code",
   "execution_count": 16,
   "id": "c0ef61e0-1e36-4151-b61d-769cbcde3a94",
   "metadata": {},
   "outputs": [
    {
     "data": {
      "text/plain": [
       "'Himanshu'"
      ]
     },
     "execution_count": 16,
     "metadata": {},
     "output_type": "execute_result"
    }
   ],
   "source": [
    "name"
   ]
  },
  {
   "cell_type": "code",
   "execution_count": 17,
   "id": "eebf2870-2386-4602-8a37-736f667642a1",
   "metadata": {},
   "outputs": [
    {
     "name": "stdin",
     "output_type": "stream",
     "text": [
      " 25\n"
     ]
    }
   ],
   "source": [
    "age = int(input())\n"
   ]
  },
  {
   "cell_type": "code",
   "execution_count": 18,
   "id": "acefeaa8-d122-403e-8af9-f6b0f3021ac0",
   "metadata": {},
   "outputs": [
    {
     "name": "stdout",
     "output_type": "stream",
     "text": [
      "your young blood\n"
     ]
    }
   ],
   "source": [
    "if age >= 18 and age <=45:\n",
    "    print(\"your young blood\")"
   ]
  },
  {
   "cell_type": "code",
   "execution_count": 48,
   "id": "ceb6d6e4-3e8a-4117-b6ff-03c9975de77a",
   "metadata": {},
   "outputs": [
    {
     "name": "stdin",
     "output_type": "stream",
     "text": [
      " 2000\n"
     ]
    }
   ],
   "source": [
    "product=int(input())\n"
   ]
  },
  {
   "cell_type": "code",
   "execution_count": 49,
   "id": "d62910d5-5e68-4514-b789-3371f625a287",
   "metadata": {},
   "outputs": [
    {
     "name": "stdout",
     "output_type": "stream",
     "text": [
      "The product price is 2000 and the discounted price is 1400.0\n"
     ]
    }
   ],
   "source": [
    "if product >= 3000:\n",
    "    print(\"The product price is {} and the discounted price is {}\".format(product,product*0.8))\n",
    "elif product >=2000 and product <3000:\n",
    "    if product == 2999:\n",
    "        print(\"congratulation you got an additional gift\")\n",
    "    print(\"The product price is {} and the discounted price is {}\".format(product,product*0.7))\n",
    "else:\n",
    "    print(\"The product price is {} and the discounted price is {}\".format(product,product*0.6))\n",
    "\n",
    "              \n",
    "    "
   ]
  },
  {
   "cell_type": "code",
   "execution_count": null,
   "id": "277cbfa3-3cab-4b03-8b6d-8be677f71b19",
   "metadata": {},
   "outputs": [],
   "source": []
  }
 ],
 "metadata": {
  "kernelspec": {
   "display_name": "Python 3 (ipykernel)",
   "language": "python",
   "name": "python3"
  },
  "language_info": {
   "codemirror_mode": {
    "name": "ipython",
    "version": 3
   },
   "file_extension": ".py",
   "mimetype": "text/x-python",
   "name": "python",
   "nbconvert_exporter": "python",
   "pygments_lexer": "ipython3",
   "version": "3.10.8"
  }
 },
 "nbformat": 4,
 "nbformat_minor": 5
}
